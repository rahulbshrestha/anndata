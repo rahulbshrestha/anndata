{
 "cells": [
  {
   "cell_type": "markdown",
   "metadata": {},
   "source": [
    "# Comparitive benchmarks"
   ]
  },
  {
   "cell_type": "markdown",
   "metadata": {},
   "source": [
    "Here, we perform benchmarks to compare anndata's performance vs other packages (Loom, Seurat). We'll be looking into IO time, IO memory, on-disk size and in-memory size."
   ]
  },
  {
   "cell_type": "code",
   "execution_count": 1,
   "metadata": {},
   "outputs": [],
   "source": [
    "import anndata as ad\n",
    "import scanpy as sc"
   ]
  },
  {
   "cell_type": "code",
   "execution_count": 2,
   "metadata": {},
   "outputs": [],
   "source": [
    "adata = sc.datasets.pbmc3k()"
   ]
  },
  {
   "cell_type": "code",
   "execution_count": 3,
   "metadata": {},
   "outputs": [
    {
     "data": {
      "text/plain": [
       "AnnData object with n_obs × n_vars = 2700 × 32738\n",
       "    var: 'gene_ids'"
      ]
     },
     "execution_count": 3,
     "metadata": {},
     "output_type": "execute_result"
    }
   ],
   "source": [
    "adata"
   ]
  },
  {
   "cell_type": "markdown",
   "metadata": {},
   "source": [
    "## Reading & writing"
   ]
  },
  {
   "cell_type": "markdown",
   "metadata": {},
   "source": [
    "Let us start by writing & reading anndata's native HDF5 file format: `.h5ad`:"
   ]
  },
  {
   "cell_type": "code",
   "execution_count": 4,
   "metadata": {},
   "outputs": [
    {
     "name": "stdout",
     "output_type": "stream",
     "text": [
      "CPU times: user 97.9 ms, sys: 31.6 ms, total: 130 ms\n",
      "Wall time: 165 ms\n"
     ]
    }
   ],
   "source": [
    "%%time\n",
    "\n",
    "adata.write('test.h5ad')"
   ]
  },
  {
   "cell_type": "code",
   "execution_count": 5,
   "metadata": {},
   "outputs": [
    {
     "name": "stdout",
     "output_type": "stream",
     "text": [
      "CPU times: user 64 ms, sys: 35.4 ms, total: 99.5 ms\n",
      "Wall time: 99.4 ms\n"
     ]
    }
   ],
   "source": [
    "%%time\n",
    "\n",
    "adata = ad.read('test.h5ad')"
   ]
  },
  {
   "cell_type": "markdown",
   "metadata": {},
   "source": [
    "We see that reading and writing is much faster than for loom files. The efficiency gain here is due to explicit storage of the sparse matrix structure."
   ]
  },
  {
   "cell_type": "code",
   "execution_count": 6,
   "metadata": {},
   "outputs": [
    {
     "name": "stdout",
     "output_type": "stream",
     "text": [
      "CPU times: user 4.29 s, sys: 1.41 s, total: 5.7 s\n",
      "Wall time: 7.43 s\n"
     ]
    }
   ],
   "source": [
    "%%time\n",
    "\n",
    "adata.write_loom('test.loom')"
   ]
  },
  {
   "cell_type": "code",
   "execution_count": 7,
   "metadata": {},
   "outputs": [
    {
     "name": "stdout",
     "output_type": "stream",
     "text": [
      "CPU times: user 1.27 s, sys: 227 ms, total: 1.5 s\n",
      "Wall time: 1.55 s\n"
     ]
    },
    {
     "name": "stderr",
     "output_type": "stream",
     "text": [
      "/home/rahulbs/miniconda3/envs/anndata_env/lib/python3.9/site-packages/anndata/_core/anndata.py:121: ImplicitModificationWarning: Transforming to str index.\n",
      "  warnings.warn(\"Transforming to str index.\", ImplicitModificationWarning)\n"
     ]
    }
   ],
   "source": [
    "%%time\n",
    "\n",
    "adata_loom = ad.read_loom('test.loom')"
   ]
  },
  {
   "cell_type": "code",
   "execution_count": 8,
   "metadata": {},
   "outputs": [
    {
     "name": "stderr",
     "output_type": "stream",
     "text": [
      "/home/rahulbs/miniconda3/envs/anndata_env/lib/python3.9/site-packages/zarr/creation.py:226: UserWarning: ignoring keyword argument 'maxshape'\n",
      "  warn('ignoring keyword argument %r' % k)\n"
     ]
    },
    {
     "name": "stdout",
     "output_type": "stream",
     "text": [
      "CPU times: user 173 ms, sys: 41.9 ms, total: 215 ms\n",
      "Wall time: 391 ms\n"
     ]
    }
   ],
   "source": [
    "%%time \n",
    "\n",
    "adata.write_zarr('test.zarr')"
   ]
  },
  {
   "cell_type": "code",
   "execution_count": 9,
   "metadata": {},
   "outputs": [
    {
     "name": "stdout",
     "output_type": "stream",
     "text": [
      "CPU times: user 55.8 ms, sys: 0 ns, total: 55.8 ms\n",
      "Wall time: 65.2 ms\n"
     ]
    }
   ],
   "source": [
    "%%time \n",
    "\n",
    "adata_zarr = ad.read_zarr('test.zarr')"
   ]
  },
  {
   "cell_type": "markdown",
   "metadata": {},
   "source": [
    "## Memory"
   ]
  },
  {
   "cell_type": "markdown",
   "metadata": {},
   "source": [
    "Next, we benchmark the IO memory, On disk size and In memory size"
   ]
  },
  {
   "cell_type": "code",
   "execution_count": 10,
   "metadata": {},
   "outputs": [],
   "source": [
    "%load_ext memory_profiler"
   ]
  },
  {
   "cell_type": "code",
   "execution_count": 11,
   "metadata": {},
   "outputs": [
    {
     "name": "stdout",
     "output_type": "stream",
     "text": [
      "peak memory: 403.57 MiB, increment: 1.28 MiB\n"
     ]
    }
   ],
   "source": [
    "%memit\n",
    "\n",
    "adata = ad.read('test.h5ad')"
   ]
  },
  {
   "cell_type": "code",
   "execution_count": 12,
   "metadata": {},
   "outputs": [
    {
     "name": "stdout",
     "output_type": "stream",
     "text": [
      "peak memory: 387.79 MiB, increment: 0.00 MiB\n"
     ]
    },
    {
     "name": "stderr",
     "output_type": "stream",
     "text": [
      "/home/rahulbs/miniconda3/envs/anndata_env/lib/python3.9/site-packages/anndata/_core/anndata.py:121: ImplicitModificationWarning: Transforming to str index.\n",
      "  warnings.warn(\"Transforming to str index.\", ImplicitModificationWarning)\n"
     ]
    }
   ],
   "source": [
    "%memit\n",
    "\n",
    "adata_loom = ad.read_loom('test.loom')"
   ]
  },
  {
   "cell_type": "code",
   "execution_count": 13,
   "metadata": {},
   "outputs": [
    {
     "name": "stdout",
     "output_type": "stream",
     "text": [
      "peak memory: 382.39 MiB, increment: 0.75 MiB\n"
     ]
    }
   ],
   "source": [
    "%memit\n",
    "\n",
    "adata_zarr = ad.read_zarr('test.zarr')"
   ]
  },
  {
   "cell_type": "code",
   "execution_count": 14,
   "metadata": {},
   "outputs": [
    {
     "name": "stdout",
     "output_type": "stream",
     "text": [
      "22.992788314819336 MiB\n",
      "27.154497146606445 MiB\n",
      "22.992788314819336 MiB\n"
     ]
    },
    {
     "name": "stderr",
     "output_type": "stream",
     "text": [
      "/home/rahulbs/miniconda3/envs/anndata_env/lib/python3.9/site-packages/anndata/_core/anndata.py:549: FutureWarning: The default dtype for empty Series will be 'object' instead of 'float64' in a future version. Specify a dtype explicitly to silence this warning.\n",
      "  return X.__sizeof__()\n",
      "/home/rahulbs/miniconda3/envs/anndata_env/lib/python3.9/site-packages/anndata/_core/anndata.py:549: FutureWarning: The default dtype for empty Series will be 'object' instead of 'float64' in a future version. Specify a dtype explicitly to silence this warning.\n",
      "  return X.__sizeof__()\n"
     ]
    }
   ],
   "source": [
    "adata_size = sys.getsizeof(adata)/1024/1024\n",
    "adata_loom_size = sys.getsizeof(adata_loom)/1024/1024\n",
    "adata_zarr_size = sys.getsizeof(adata_zarr)/1024/1024\n",
    "\n",
    "print(adata_size, \"MiB\")\n",
    "print(adata_loom_size, \"MiB\")\n",
    "print(adata_zarr_size,\"MiB\")\n",
    "\n"
   ]
  },
  {
   "cell_type": "markdown",
   "metadata": {},
   "source": [
    "## Benchmark summary\n",
    "\n",
    "A summary of the tests performed above for datasets of different sizes.\n",
    "\n",
    "<table>\n",
    "<tr>\n",
    "    <th> Package </th>\n",
    "    <th> Dataset size </th>\n",
    "    <th> IO Time</th>\n",
    "    <th> IO Memory </th>\n",
    "    <th> On disk size </th>\n",
    "    <th> In memory size </th> \n",
    "</tr>\n",
    "\n",
    "<tr>\n",
    "    <td>Anndata</td> \n",
    "    <td>5 MB</td> \n",
    "    <td> 516 ms</td>\n",
    "    <td> 442.MiB </td> \n",
    "    <td> X </td>\n",
    "    <td> X </td>\n",
    "</tr>\n",
    "<tr>\n",
    "    <td>Anndata</td> \n",
    "    <td>20 MB</td> \n",
    "    <td> 516 ms</td>\n",
    "    <td> 442.MiB </td> \n",
    "    <td> X </td>\n",
    "    <td> X </td>\n",
    "</tr>\n",
    "\n",
    "<tr>\n",
    "    <td>Loom</td> \n",
    "    <td>5 MB</td> \n",
    "    <td> 516 ms</td>\n",
    "    <td> 442.MiB </td> \n",
    "    <td> X </td>\n",
    "    <td> X </td>\n",
    "</tr>\n",
    "<tr>\n",
    "    <td>Loom</td> \n",
    "    <td>20 MB</td> \n",
    "    <td> 516 ms</td>\n",
    "    <td> 442.MiB </td> \n",
    "    <td> X </td>\n",
    "    <td> X </td>\n",
    "</tr>\n",
    "\n",
    "</table>"
   ]
  }
 ],
 "metadata": {
  "interpreter": {
   "hash": "459a1065eb5ad61c1f91190ad635f7e977a177da310776cac477de46ce11104c"
  },
  "kernelspec": {
   "display_name": "Python 3.9.12 64-bit ('anndata_env': conda)",
   "name": "python3"
  },
  "language_info": {
   "codemirror_mode": {
    "name": "ipython",
    "version": 3
   },
   "file_extension": ".py",
   "mimetype": "text/x-python",
   "name": "python",
   "nbconvert_exporter": "python",
   "pygments_lexer": "ipython3",
   "version": "3.9.12"
  }
 },
 "nbformat": 4,
 "nbformat_minor": 4
}